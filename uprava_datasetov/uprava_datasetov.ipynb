{
 "cells": [
  {
   "cell_type": "code",
   "execution_count": null,
   "id": "a1f2e094-8422-4dcb-9f37-0d64dfedd440",
   "metadata": {},
   "outputs": [],
   "source": [
    "import pandas as pd\n",
    "\n",
    "df = pd.read_csv(\"hf://datasets/aadityaubhat/GPT-wiki-intro/GPT-wiki-intro.csv.zip\")"
   ]
  },
  {
   "cell_type": "code",
   "execution_count": null,
   "id": "2152d35b-2ab1-4331-8705-2aee60413f7a",
   "metadata": {},
   "outputs": [],
   "source": [
    "intros_df = df[['wiki_intro', 'generated_intro']]\n",
    "\n",
    "intros_df.to_csv('intros.csv', index=False)"
   ]
  },
  {
   "cell_type": "code",
   "execution_count": null,
   "id": "cf7ae36d-6e36-4c28-8f66-dd1d880dc6a2",
   "metadata": {},
   "outputs": [],
   "source": [
    "from sklearn.model_selection import train_test_split\n",
    "\n",
    "# Rozdelenie dát na tréningový a testovací dataset v pomere 80:20\n",
    "train_df, test_df = train_test_split(intros_df, test_size=0.2, random_state=42)\n",
    "\n",
    "# Overenie veľkostí datasetov\n",
    "print(f\"Veľkosť train_df: {len(train_df)}\")\n",
    "print(f\"Veľkosť test_df: {len(test_df)}\")"
   ]
  },
  {
   "cell_type": "code",
   "execution_count": null,
   "id": "74673fce-b92c-4900-b2eb-e49d9d64fa7c",
   "metadata": {},
   "outputs": [],
   "source": [
    "train_df, valid_df = train_test_split(train_df, test_size=0.1, random_state=42)\n",
    "\n",
    "# Overenie veľkostí nových datasetov\n",
    "print(f\"Veľkosť train_df: {len(train_df)}\")\n",
    "print(f\"Veľkosť valid_df: {len(valid_df)}\")"
   ]
  },
  {
   "cell_type": "code",
   "execution_count": null,
   "id": "febc9f80-e2b2-4cc3-a382-49a236eb15d9",
   "metadata": {},
   "outputs": [],
   "source": [
    "def transform_dataset_alternating(df):\n",
    "    # Vytvorenie stĺpcov 'data' a 'label'\n",
    "    wiki_data = pd.DataFrame({'data': df['wiki_intro'], 'label': 0})\n",
    "    generated_data = pd.DataFrame({'data': df['generated_intro'], 'label': 1})\n",
    "    \n",
    "    # Spojenie a striedanie záznamov\n",
    "    alternating_data = pd.concat([wiki_data, generated_data]).sort_index(kind='merge').reset_index(drop=True)\n",
    "    return alternating_data\n",
    "\n",
    "# Transformácia datasetov\n",
    "train_df = transform_dataset_alternating(train_df)\n",
    "test_df = transform_dataset_alternating(test_df)\n",
    "valid_df = transform_dataset_alternating(valid_df)"
   ]
  },
  {
   "cell_type": "code",
   "execution_count": null,
   "id": "cbcc7f58-bb2b-4269-988b-691b34ca6f93",
   "metadata": {},
   "outputs": [],
   "source": [
    "train_df.to_csv('train.csv', index=False)\n",
    "test_df.to_csv('test.csv', index=False)\n",
    "valid_df.to_csv('valid.csv', index=False)"
   ]
  },
  {
   "cell_type": "code",
   "execution_count": null,
   "id": "995068fc-ef86-4551-9d1a-0d0dcfbffeb0",
   "metadata": {},
   "outputs": [],
   "source": [
    "test2_df = test_df.head(10000).copy()\n",
    "\n",
    "# Uloženie do test2.csv\n",
    "test2_df.to_csv(\"test10k.csv\", index=False)"
   ]
  }
 ],
 "metadata": {
  "kernelspec": {
   "display_name": "Python 3 (ipykernel)",
   "language": "python",
   "name": "python3"
  },
  "language_info": {
   "codemirror_mode": {
    "name": "ipython",
    "version": 3
   },
   "file_extension": ".py",
   "mimetype": "text/x-python",
   "name": "python",
   "nbconvert_exporter": "python",
   "pygments_lexer": "ipython3",
   "version": "3.12.7"
  }
 },
 "nbformat": 4,
 "nbformat_minor": 5
}
