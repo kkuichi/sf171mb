{
 "cells": [
  {
   "cell_type": "code",
   "execution_count": null,
   "id": "2dd82b2c-e72e-4592-b356-42ce8d8d651f",
   "metadata": {},
   "outputs": [],
   "source": [
    "from concurrent.futures import ThreadPoolExecutor\n",
    "import pandas as pd\n",
    "import numpy as np\n",
    "from langchain_ollama import OllamaLLM\n",
    "from sklearn.metrics import classification_report\n",
    "from sklearn.metrics import matthews_corrcoef\n",
    "from tqdm import tqdm\n",
    "\n",
    "llm = OllamaLLM(model=\"llama_detector1\")"
   ]
  },
  {
   "cell_type": "code",
   "execution_count": null,
   "id": "1b46d336-b7bb-42e3-a6b7-fb66c129864e",
   "metadata": {},
   "outputs": [],
   "source": [
    "test_df = pd.read_csv(\"test_10k.csv\")"
   ]
  },
  {
   "cell_type": "code",
   "execution_count": null,
   "id": "77b6f884-b4ed-4581-812e-dab38af25878",
   "metadata": {},
   "outputs": [],
   "source": [
    "# Funkcia na predikciu pre jeden text\n",
    "def predict_single(text):\n",
    "    # Volanie LLM API (predpokladáme, že vráti 0 alebo 1)\n",
    "    return llm.invoke(text)\n",
    "\n",
    "# Paralelné spracovanie pomocou vlákien\n",
    "def parallel_prediction(data):\n",
    "    predictions = []\n",
    "    with ThreadPoolExecutor(max_workers=8) as executor:  # Nastavenie počtu vlákien\n",
    "        # Použitie tqdm pre progress bar\n",
    "        for result in tqdm(executor.map(predict_single, data), total=len(data), desc=\"Processing Predictions\"):\n",
    "            predictions.append(result)\n",
    "    return predictions\n",
    "\n",
    "if __name__ == '__main__':\n",
    "    # Načítanie dát\n",
    "    test_df = pd.read_csv(\"test_10k.csv\")\n",
    "\n",
    "    # Paralelné predikcie s progress barom\n",
    "    test_df['predicted'] = parallel_prediction(test_df['data'].tolist())\n",
    "    \n",
    "    # Overenie výsledku\n",
    "    print(test_df)\n",
    "    test_df.to_csv('test_pred.csv', index=False)"
   ]
  },
  {
   "cell_type": "code",
   "execution_count": null,
   "id": "c518db58-47fe-4c1e-a3ee-256debdbc0b3",
   "metadata": {},
   "outputs": [],
   "source": [
    "test_df = pd.read_csv(\"test_pred.csv\")\n",
    "test_df[\"label\"] = test_df[\"label\"].astype(\"int64\")\n",
    "test_df[\"predicted\"] = test_df[\"predicted\"].astype(\"int64\")\n",
    "test_df.to_csv('test_pred.csv', index=False)"
   ]
  }
 ],
 "metadata": {
  "kernelspec": {
   "display_name": "Python 3 (ipykernel)",
   "language": "python",
   "name": "python3"
  },
  "language_info": {
   "codemirror_mode": {
    "name": "ipython",
    "version": 3
   },
   "file_extension": ".py",
   "mimetype": "text/x-python",
   "name": "python",
   "nbconvert_exporter": "python",
   "pygments_lexer": "ipython3",
   "version": "3.12.7"
  }
 },
 "nbformat": 4,
 "nbformat_minor": 5
}
