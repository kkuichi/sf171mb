{
 "cells": [
  {
   "cell_type": "code",
   "execution_count": null,
   "id": "c1804049-38a8-47c0-b45f-33e0b3ea1582",
   "metadata": {},
   "outputs": [],
   "source": [
    "from concurrent.futures import ThreadPoolExecutor\n",
    "import pandas as pd\n",
    "import numpy as np\n",
    "from langchain_ollama import OllamaLLM\n",
    "from sklearn.metrics import classification_report\n",
    "from sklearn.metrics import matthews_corrcoef\n",
    "from tqdm import tqdm\n",
    "\n",
    "llm = OllamaLLM(model=\"deepseek_detector\")"
   ]
  },
  {
   "cell_type": "code",
   "execution_count": null,
   "id": "2d4e66d9-11ca-4963-9f9e-0ab4509240e2",
   "metadata": {},
   "outputs": [],
   "source": [
    "test_df = pd.read_csv(\"test_10k.csv\")"
   ]
  },
  {
   "cell_type": "code",
   "execution_count": null,
   "id": "dc4f6551-04a1-4fad-bbb7-b83dbfec34c3",
   "metadata": {},
   "outputs": [],
   "source": [
    "# Funkcia na predikciu pre jeden text\n",
    "def predict_single(text):\n",
    "    # Volanie LLM API (predpokladáme, že vráti 0 alebo 1)\n",
    "    return llm.invoke(text)\n",
    "\n",
    "# Paralelné spracovanie pomocou vlákien\n",
    "def parallel_prediction(data):\n",
    "    predictions = []\n",
    "    with ThreadPoolExecutor(max_workers=8) as executor:  # Nastavenie počtu vlákien\n",
    "        # Použitie tqdm pre progress bar\n",
    "        for result in tqdm(executor.map(predict_single, data), total=len(data), desc=\"Processing Predictions\"):\n",
    "            predictions.append(result)\n",
    "    return predictions\n",
    "\n",
    "if __name__ == '__main__':\n",
    "    # Načítanie dát\n",
    "    test_df = pd.read_csv(\"test_10k.csv\")\n",
    "\n",
    "    # Paralelné predikcie s progress barom\n",
    "    test_df['predicted'] = parallel_prediction(test_df['data'].tolist())\n",
    "    \n",
    "    # Overenie výsledku\n",
    "    print(test_df)\n",
    "    test_df.to_csv('test_deepseek.csv', index=False)"
   ]
  },
  {
   "cell_type": "code",
   "execution_count": null,
   "id": "57a8299f-3536-4814-9160-c06c0fff599b",
   "metadata": {},
   "outputs": [],
   "source": [
    "test_df=pd.read_csv(\"test_deepseek.csv\")"
   ]
  },
  {
   "cell_type": "code",
   "execution_count": null,
   "id": "d16e29ce-6fb1-460d-8926-5ff2aa58c9ca",
   "metadata": {},
   "outputs": [],
   "source": [
    "test_df= test_df.rename(columns={'predicted': 'skala1234'})\n",
    "test_df"
   ]
  },
  {
   "cell_type": "code",
   "execution_count": null,
   "id": "4ed562a0-22ab-4e83-8023-03f0404f1358",
   "metadata": {},
   "outputs": [],
   "source": [
    "import re\n",
    "\n",
    "def extract_number(response):\n",
    "    match = re.match(r\"(\\d+)\", response)  # Hľadá číslo na začiatku textu\n",
    "    if match:\n",
    "        return int(match.group(1))  # Vráti extrahované číslo ako integer\n",
    "    return None  # Ak nie je číslo, vráti None\n",
    "\n",
    "# Aplikovanie funkcie na stĺpec 'skala1234' a nahradenie hodnôt\n",
    "test_df['skala1234'] = test_df['skala1234'].apply(extract_number)\n",
    "\n",
    "# Výpis výsledku\n",
    "print(test_df)"
   ]
  },
  {
   "cell_type": "code",
   "execution_count": null,
   "id": "f0c697ea-9b8a-4c8f-9ab6-dca2953c0276",
   "metadata": {},
   "outputs": [],
   "source": [
    "test_df['predicted'] = np.where(test_df['skala1234'].isin([1, 2]), 0, 1)\n",
    "test_df"
   ]
  },
  {
   "cell_type": "code",
   "execution_count": null,
   "id": "f698172f-d31d-4698-be0b-497a48599295",
   "metadata": {},
   "outputs": [],
   "source": [
    "test_df.to_csv('test_deepseek_predicted.csv', index=False)"
   ]
  }
 ],
 "metadata": {
  "kernelspec": {
   "display_name": "Python 3 (ipykernel)",
   "language": "python",
   "name": "python3"
  },
  "language_info": {
   "codemirror_mode": {
    "name": "ipython",
    "version": 3
   },
   "file_extension": ".py",
   "mimetype": "text/x-python",
   "name": "python",
   "nbconvert_exporter": "python",
   "pygments_lexer": "ipython3",
   "version": "3.12.7"
  }
 },
 "nbformat": 4,
 "nbformat_minor": 5
}
