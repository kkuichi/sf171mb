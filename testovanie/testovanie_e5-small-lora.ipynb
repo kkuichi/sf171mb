{
 "cells": [
  {
   "cell_type": "code",
   "execution_count": null,
   "id": "d424df01-0bdc-4df7-a82e-1a4d442f419b",
   "metadata": {},
   "outputs": [],
   "source": [
    "import sys\n",
    "!{sys.executable} -m pip --version "
   ]
  },
  {
   "cell_type": "code",
   "execution_count": null,
   "id": "5a164e76-c496-45c3-b4ce-6bee274fc7c5",
   "metadata": {},
   "outputs": [],
   "source": [
    "!{sys.executable} -m pip install -q transformers torch scikit-learn sentencepiece safetensors"
   ]
  },
  {
   "cell_type": "code",
   "execution_count": null,
   "id": "dbce9ac3-4e0f-47c3-a9b2-385eec2452c5",
   "metadata": {},
   "outputs": [],
   "source": [
    "import os\n",
    "os.environ[\"TRANSFORMERS_NO_TORCHVISION_IMPORTS\"] = \"1\"\n",
    "import os, torch, torch.nn.functional as F, pandas as pd\n",
    "from transformers import AutoTokenizer, AutoModelForSequenceClassification\n",
    "from sklearn.metrics import classification_report, confusion_matrix\n",
    "\n",
    "os.environ[\"CUDA_VISIBLE_DEVICES\"] = \"\"\n",
    "DEVICE   = \"cpu\"                             \n",
    "MODEL_ID = \"MayZhou/e5-small-lora-ai-generated-detector\""
   ]
  },
  {
   "cell_type": "code",
   "execution_count": null,
   "id": "a358a87b-e4e8-4256-a773-1af3c7ec2c19",
   "metadata": {},
   "outputs": [],
   "source": [
    "tok   = AutoTokenizer.from_pretrained(MODEL_ID)\n",
    "model = AutoModelForSequenceClassification.from_pretrained(MODEL_ID).to(DEVICE)\n",
    "model.eval()"
   ]
  },
  {
   "cell_type": "code",
   "execution_count": null,
   "id": "61325234-df15-43f7-813b-5279a130e813",
   "metadata": {},
   "outputs": [],
   "source": [
    "import torch.nn.functional as F\n",
    "import pandas as pd\n",
    "from sklearn.metrics import classification_report, confusion_matrix\n",
    "\n",
    "df = pd.read_csv(\"test_10k.csv\")          # 'data' + 'label'\n",
    "assert {\"data\", \"label\"} <= set(df.columns)\n",
    "print(df.head())"
   ]
  },
  {
   "cell_type": "code",
   "execution_count": null,
   "id": "4b78dc15-6607-4387-85f5-9693894cdef9",
   "metadata": {},
   "outputs": [],
   "source": [
    "from tqdm.auto import tqdm\n",
    "\n",
    "def predict_probs(texts, batch=32, max_len=256):\n",
    "    probs = []\n",
    "    for i in tqdm(range(0, len(texts), batch), desc=\"Batches\"):\n",
    "        enc = tok(\n",
    "            texts[i:i+batch].tolist(),\n",
    "            padding=True, truncation=True, max_length=max_len,\n",
    "            return_tensors=\"pt\"\n",
    "        ).to(model.device)\n",
    "\n",
    "        with torch.no_grad():\n",
    "            logits = model(**enc).logits\n",
    "            p = torch.softmax(logits, dim=-1)[:, 1]\n",
    "        probs.extend(p.cpu().numpy())\n",
    "    return probs"
   ]
  },
  {
   "cell_type": "code",
   "execution_count": null,
   "id": "58270b1a-2bc6-4e2c-ad80-e37c9abb7a29",
   "metadata": {},
   "outputs": [],
   "source": [
    "df[\"prob_ai\"] = predict_probs(df[\"data\"])\n",
    "df[\"pred\"]    = (df[\"prob_ai\"] >= 0.5).astype(int)"
   ]
  },
  {
   "cell_type": "code",
   "execution_count": null,
   "id": "4da8274d-fde0-498a-8112-e198c180c342",
   "metadata": {},
   "outputs": [],
   "source": [
    "df.to_csv(\"test_10k_with_preds.csv\", index=False)"
   ]
  }
 ],
 "metadata": {
  "kernelspec": {
   "display_name": "Python 3 (ipykernel)",
   "language": "python",
   "name": "python3"
  },
  "language_info": {
   "codemirror_mode": {
    "name": "ipython",
    "version": 3
   },
   "file_extension": ".py",
   "mimetype": "text/x-python",
   "name": "python",
   "nbconvert_exporter": "python",
   "pygments_lexer": "ipython3",
   "version": "3.12.7"
  }
 },
 "nbformat": 4,
 "nbformat_minor": 5
}
