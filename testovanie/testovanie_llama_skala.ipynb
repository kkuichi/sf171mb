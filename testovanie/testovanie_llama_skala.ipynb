{
 "cells": [
  {
   "cell_type": "code",
   "execution_count": null,
   "id": "18138f43-de4b-4d12-be44-bd25f6fd78c8",
   "metadata": {},
   "outputs": [],
   "source": [
    "from concurrent.futures import ThreadPoolExecutor\n",
    "import pandas as pd\n",
    "import numpy as np\n",
    "from langchain_ollama import OllamaLLM\n",
    "from sklearn.metrics import classification_report\n",
    "from sklearn.metrics import matthews_corrcoef\n",
    "from tqdm import tqdm\n",
    "\n",
    "llm = OllamaLLM(model=\"llama_detector3\")"
   ]
  },
  {
   "cell_type": "code",
   "execution_count": null,
   "id": "6ad4791c-dea0-482e-b028-89901437f726",
   "metadata": {},
   "outputs": [],
   "source": [
    "test3_df = pd.read_csv(\"test_10k.csv\")"
   ]
  },
  {
   "cell_type": "code",
   "execution_count": null,
   "id": "ccc03f77-34a6-4783-9128-a30b19ce25c3",
   "metadata": {},
   "outputs": [],
   "source": [
    "# Funkcia na predikciu pre jeden text\n",
    "def predict_single(text):\n",
    "    # Volanie LLM API (predpokladáme, že vráti 0 alebo 1)\n",
    "    return llm.invoke(text)\n",
    "\n",
    "# Paralelné spracovanie pomocou vlákien\n",
    "def parallel_prediction(data):\n",
    "    predictions = []\n",
    "    with ThreadPoolExecutor(max_workers=8) as executor:  # Nastavenie počtu vlákien\n",
    "        # Použitie tqdm pre progress bar\n",
    "        for result in tqdm(executor.map(predict_single, data), total=len(data), desc=\"Processing Predictions\"):\n",
    "            predictions.append(result)\n",
    "    return predictions\n",
    "\n",
    "if __name__ == '__main__':\n",
    "    # Načítanie dát\n",
    "    test3_df = pd.read_csv(\"test_10k.csv\")\n",
    "\n",
    "    # Paralelné predikcie s progress barom\n",
    "    test3_df['predicted'] = parallel_prediction(test3_df['data'].tolist())\n",
    "    \n",
    "    # Overenie výsledku\n",
    "    print(test3_df)\n",
    "    test3_df.to_csv('test_pred3.csv', index=False)"
   ]
  },
  {
   "cell_type": "code",
   "execution_count": null,
   "id": "ba296b73-9a68-48e0-8e88-ecb8dacbacf7",
   "metadata": {},
   "outputs": [],
   "source": [
    "test3_df = pd.read_csv(\"test_pred3.csv\")\n",
    "test3_df= test3_df.rename(columns={'predicted': 'skala1234'})\n",
    "test3_df"
   ]
  },
  {
   "cell_type": "code",
   "execution_count": null,
   "id": "9b574f58-2fbb-4dd9-b754-97d0c140ff57",
   "metadata": {},
   "outputs": [],
   "source": [
    "import re\n",
    "\n",
    "def extract_number(response):\n",
    "    match = re.match(r\"(\\d+)\", response)  # Hľadá číslo na začiatku textu\n",
    "    if match:\n",
    "        return int(match.group(1))  # Vráti extrahované číslo ako integer\n",
    "    return None  # Ak nie je číslo, vráti None\n",
    "\n",
    "# Aplikovanie funkcie na stĺpec 'skala1234' a nahradenie hodnôt\n",
    "test3_df['skala1234'] = test3_df['skala1234'].apply(extract_number)\n",
    "\n",
    "# Výpis výsledku\n",
    "print(test3_df)"
   ]
  },
  {
   "cell_type": "code",
   "execution_count": null,
   "id": "1f002fb9-01d0-4478-8e94-cc351b916fcf",
   "metadata": {},
   "outputs": [],
   "source": [
    "test3_df['predicted'] = np.where(test3_df['skala1234'].isin([1, 2]), 0, 1)\n",
    "test3_df"
   ]
  },
  {
   "cell_type": "code",
   "execution_count": null,
   "id": "11939abb-4b59-4b5f-b83b-c5e09ec7b72c",
   "metadata": {},
   "outputs": [],
   "source": [
    "test3_df.to_csv('test_pred3.csv', index=False)"
   ]
  }
 ],
 "metadata": {
  "kernelspec": {
   "display_name": "Python 3 (ipykernel)",
   "language": "python",
   "name": "python3"
  },
  "language_info": {
   "codemirror_mode": {
    "name": "ipython",
    "version": 3
   },
   "file_extension": ".py",
   "mimetype": "text/x-python",
   "name": "python",
   "nbconvert_exporter": "python",
   "pygments_lexer": "ipython3",
   "version": "3.12.7"
  }
 },
 "nbformat": 4,
 "nbformat_minor": 5
}
