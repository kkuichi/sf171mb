{
 "cells": [
  {
   "cell_type": "code",
   "execution_count": null,
   "id": "f1445cc1-c079-4954-bc3e-8e0c4d870e37",
   "metadata": {},
   "outputs": [],
   "source": [
    "from concurrent.futures import ThreadPoolExecutor\n",
    "import pandas as pd\n",
    "import numpy as np\n",
    "from langchain_ollama import OllamaLLM\n",
    "from sklearn.metrics import classification_report\n",
    "from sklearn.metrics import matthews_corrcoef\n",
    "from tqdm import tqdm\n",
    "\n",
    "llm = OllamaLLM(model=\"llama_detector2\")"
   ]
  },
  {
   "cell_type": "code",
   "execution_count": null,
   "id": "35faceee-d7a3-46af-a035-f47cd43d655e",
   "metadata": {},
   "outputs": [],
   "source": [
    "test_df = pd.read_csv(\"test_10k.csv\")"
   ]
  },
  {
   "cell_type": "code",
   "execution_count": null,
   "id": "d1d7e1ea-4fbf-4623-99dd-935801b6ec13",
   "metadata": {},
   "outputs": [],
   "source": [
    "# Funkcia na predikciu pre jeden text\n",
    "def predict_single(text):\n",
    "    # Volanie LLM API (predpokladáme, že vráti 0 alebo 1)\n",
    "    return llm.invoke(text)\n",
    "\n",
    "# Paralelné spracovanie pomocou vlákien\n",
    "def parallel_prediction(data):\n",
    "    predictions = []\n",
    "    with ThreadPoolExecutor(max_workers=8) as executor:  # Nastavenie počtu vlákien\n",
    "        # Použitie tqdm pre progress bar\n",
    "        for result in tqdm(executor.map(predict_single, data), total=len(data), desc=\"Processing Predictions\"):\n",
    "            predictions.append(result)\n",
    "    return predictions\n",
    "\n",
    "if __name__ == '__main__':\n",
    "    # Načítanie dát\n",
    "    test_df = pd.read_csv(\"test_10k.csv\")\n",
    "\n",
    "    # Paralelné predikcie s progress barom\n",
    "    test_df['predicted'] = parallel_prediction(test_df['data'].tolist())\n",
    "    \n",
    "    # Overenie výsledku\n",
    "    print(test_df)\n",
    "    test_df.to_csv('test_prompt.csv', index=False)"
   ]
  },
  {
   "cell_type": "code",
   "execution_count": null,
   "id": "666e0029-c5f1-461b-b23c-95eb6a2cdd75",
   "metadata": {},
   "outputs": [],
   "source": [
    "test_df = pd.read_csv(\"test_prompt.csv\")\n",
    "test_df[\"label\"] = test_df[\"label\"].astype(\"int64\")\n",
    "test_df[\"predicted\"] = test_df[\"predicted\"].astype(\"int64\")\n",
    "test_df.to_csv('test_prompt.csv', index=False)"
   ]
  }
 ],
 "metadata": {
  "kernelspec": {
   "display_name": "Python 3 (ipykernel)",
   "language": "python",
   "name": "python3"
  },
  "language_info": {
   "codemirror_mode": {
    "name": "ipython",
    "version": 3
   },
   "file_extension": ".py",
   "mimetype": "text/x-python",
   "name": "python",
   "nbconvert_exporter": "python",
   "pygments_lexer": "ipython3",
   "version": "3.12.7"
  }
 },
 "nbformat": 4,
 "nbformat_minor": 5
}
