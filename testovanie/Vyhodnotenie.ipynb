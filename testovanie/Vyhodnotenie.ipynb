{
 "cells": [
  {
   "cell_type": "code",
   "execution_count": 13,
   "id": "72f466d9-b519-462d-b58a-ac18be6f85aa",
   "metadata": {},
   "outputs": [],
   "source": [
    "import pandas as pd\n",
    "from sklearn.metrics import classification_report\n",
    "from sklearn.metrics import matthews_corrcoef\n",
    "from sklearn.metrics import confusion_matrix, ConfusionMatrixDisplay\n",
    "import matplotlib.pyplot as plt"
   ]
  },
  {
   "cell_type": "code",
   "execution_count": 5,
   "id": "16a85209-7584-4a35-be04-0a0c91cce8d7",
   "metadata": {},
   "outputs": [],
   "source": [
    "df_llama_bez_skaly = pd.read_csv(\"test_pred.csv\")\n",
    "df_llama_novyprompt = pd.read_csv(\"test_prompt.csv\")\n",
    "df_llama_so_skalou = pd.read_csv(\"test_pred3.csv\")\n",
    "\n",
    "df_deepseek = pd.read_csv(\"test_deepseek_predicted.csv\")\n",
    "\n",
    "df_e5 = pd.read_csv(\"test_10k_with_preds.csv\")"
   ]
  },
  {
   "cell_type": "code",
   "execution_count": 31,
   "id": "98e661ff-988b-4f1c-982f-32d608da5f8a",
   "metadata": {},
   "outputs": [
    {
     "name": "stdout",
     "output_type": "stream",
     "text": [
      "True Positives (TP): 3398\n",
      "True Negatives (TN): 1765\n",
      "False Positives (FP): 3235\n",
      "False Negatives (FN): 1602\n"
     ]
    }
   ],
   "source": [
    "cm = confusion_matrix(df_llama_bez_skaly[\"label\"], df_llama_bez_skaly[\"predicted\"])\n",
    "tn, fp, fn, tp = cm.ravel()\n",
    "\n",
    "print(f\"True Positives (TP): {tp}\")\n",
    "print(f\"True Negatives (TN): {tn}\")\n",
    "print(f\"False Positives (FP): {fp}\")\n",
    "print(f\"False Negatives (FN): {fn}\")"
   ]
  },
  {
   "cell_type": "code",
   "execution_count": 23,
   "id": "08d84aaa-7ab2-4f6e-8273-012905d48db6",
   "metadata": {},
   "outputs": [
    {
     "name": "stdout",
     "output_type": "stream",
     "text": [
      "              precision    recall  f1-score   support\n",
      "\n",
      "           0       0.52      0.35      0.42      5000\n",
      "           1       0.51      0.68      0.58      5000\n",
      "\n",
      "    accuracy                           0.52     10000\n",
      "   macro avg       0.52      0.52      0.50     10000\n",
      "weighted avg       0.52      0.52      0.50     10000\n",
      "\n"
     ]
    }
   ],
   "source": [
    "print(classification_report(df_llama_bez_skaly[\"label\"], df_llama_bez_skaly[\"predicted\"]))"
   ]
  },
  {
   "cell_type": "code",
   "execution_count": 25,
   "id": "88953a79-40a1-4c8d-bd52-9432e35e15e7",
   "metadata": {},
   "outputs": [
    {
     "data": {
      "text/plain": [
       "0.0344914178611987"
      ]
     },
     "execution_count": 25,
     "metadata": {},
     "output_type": "execute_result"
    }
   ],
   "source": [
    "matthews_corrcoef(df_llama_bez_skaly[\"label\"], df_llama_bez_skaly[\"predicted\"])"
   ]
  },
  {
   "cell_type": "code",
   "execution_count": 33,
   "id": "107e86d8-0e69-4538-a0ff-edcb6ca51677",
   "metadata": {},
   "outputs": [
    {
     "name": "stdout",
     "output_type": "stream",
     "text": [
      "True Positives (TP): 3937\n",
      "True Negatives (TN): 966\n",
      "False Positives (FP): 4034\n",
      "False Negatives (FN): 1063\n"
     ]
    }
   ],
   "source": [
    "cm = confusion_matrix(df_llama_novyprompt[\"label\"], df_llama_novyprompt[\"predicted\"])\n",
    "tn, fp, fn, tp = cm.ravel()\n",
    "\n",
    "print(f\"True Positives (TP): {tp}\")\n",
    "print(f\"True Negatives (TN): {tn}\")\n",
    "print(f\"False Positives (FP): {fp}\")\n",
    "print(f\"False Negatives (FN): {fn}\")"
   ]
  },
  {
   "cell_type": "code",
   "execution_count": 27,
   "id": "d7e130d4-961a-462f-ad40-39203290b106",
   "metadata": {},
   "outputs": [
    {
     "name": "stdout",
     "output_type": "stream",
     "text": [
      "              precision    recall  f1-score   support\n",
      "\n",
      "           0       0.48      0.19      0.27      5000\n",
      "           1       0.49      0.79      0.61      5000\n",
      "\n",
      "    accuracy                           0.49     10000\n",
      "   macro avg       0.49      0.49      0.44     10000\n",
      "weighted avg       0.49      0.49      0.44     10000\n",
      "\n"
     ]
    }
   ],
   "source": [
    "print(classification_report(df_llama_novyprompt[\"label\"], df_llama_novyprompt[\"predicted\"]))"
   ]
  },
  {
   "cell_type": "code",
   "execution_count": 29,
   "id": "5c46089e-6bcb-46fc-b8a0-62f06168f192",
   "metadata": {},
   "outputs": [
    {
     "data": {
      "text/plain": [
       "-0.024119833536386373"
      ]
     },
     "execution_count": 29,
     "metadata": {},
     "output_type": "execute_result"
    }
   ],
   "source": [
    "matthews_corrcoef(df_llama_novyprompt[\"label\"], df_llama_novyprompt[\"predicted\"])"
   ]
  },
  {
   "cell_type": "code",
   "execution_count": 35,
   "id": "7ca7a08e-28f6-4df4-bedf-cc6912405203",
   "metadata": {},
   "outputs": [
    {
     "name": "stdout",
     "output_type": "stream",
     "text": [
      "True Positives (TP): 4149\n",
      "True Negatives (TN): 886\n",
      "False Positives (FP): 4114\n",
      "False Negatives (FN): 851\n"
     ]
    }
   ],
   "source": [
    "cm = confusion_matrix(df_llama_so_skalou[\"label\"], df_llama_so_skalou[\"predicted\"])\n",
    "tn, fp, fn, tp = cm.ravel()\n",
    "\n",
    "print(f\"True Positives (TP): {tp}\")\n",
    "print(f\"True Negatives (TN): {tn}\")\n",
    "print(f\"False Positives (FP): {fp}\")\n",
    "print(f\"False Negatives (FN): {fn}\")"
   ]
  },
  {
   "cell_type": "code",
   "execution_count": 31,
   "id": "a6975f9d-b83b-48ab-b67e-093227925bee",
   "metadata": {},
   "outputs": [
    {
     "name": "stdout",
     "output_type": "stream",
     "text": [
      "              precision    recall  f1-score   support\n",
      "\n",
      "           0       0.51      0.18      0.26      5000\n",
      "           1       0.50      0.83      0.63      5000\n",
      "\n",
      "    accuracy                           0.50     10000\n",
      "   macro avg       0.51      0.50      0.44     10000\n",
      "weighted avg       0.51      0.50      0.44     10000\n",
      "\n"
     ]
    }
   ],
   "source": [
    "print(classification_report(df_llama_so_skalou[\"label\"], df_llama_so_skalou[\"predicted\"]))"
   ]
  },
  {
   "cell_type": "code",
   "execution_count": 33,
   "id": "d1ee279c-ed20-482f-b727-b86e0d0d1caa",
   "metadata": {},
   "outputs": [
    {
     "data": {
      "text/plain": [
       "0.00923845310722371"
      ]
     },
     "execution_count": 33,
     "metadata": {},
     "output_type": "execute_result"
    }
   ],
   "source": [
    "matthews_corrcoef(df_llama_so_skalou[\"label\"], df_llama_so_skalou[\"predicted\"])"
   ]
  },
  {
   "cell_type": "code",
   "execution_count": 37,
   "id": "0f6b5231-03ff-4570-bef8-3bcf47a85379",
   "metadata": {},
   "outputs": [
    {
     "name": "stdout",
     "output_type": "stream",
     "text": [
      "True Positives (TP): 4229\n",
      "True Negatives (TN): 841\n",
      "False Positives (FP): 4159\n",
      "False Negatives (FN): 771\n"
     ]
    }
   ],
   "source": [
    "cm = confusion_matrix(df_deepseek[\"label\"], df_deepseek[\"predicted\"])\n",
    "tn, fp, fn, tp = cm.ravel()\n",
    "\n",
    "print(f\"True Positives (TP): {tp}\")\n",
    "print(f\"True Negatives (TN): {tn}\")\n",
    "print(f\"False Positives (FP): {fp}\")\n",
    "print(f\"False Negatives (FN): {fn}\")"
   ]
  },
  {
   "cell_type": "code",
   "execution_count": 35,
   "id": "5c1acc97-1e7f-4d36-8b99-1e6476cfe063",
   "metadata": {},
   "outputs": [
    {
     "name": "stdout",
     "output_type": "stream",
     "text": [
      "              precision    recall  f1-score   support\n",
      "\n",
      "           0       0.52      0.17      0.25      5000\n",
      "           1       0.50      0.85      0.63      5000\n",
      "\n",
      "    accuracy                           0.51     10000\n",
      "   macro avg       0.51      0.51      0.44     10000\n",
      "weighted avg       0.51      0.51      0.44     10000\n",
      "\n"
     ]
    }
   ],
   "source": [
    "print(classification_report(df_deepseek[\"label\"], df_deepseek[\"predicted\"]))"
   ]
  },
  {
   "cell_type": "code",
   "execution_count": 37,
   "id": "8ee1aab5-03a3-42c4-9e62-ecd7dcd5a82c",
   "metadata": {},
   "outputs": [
    {
     "data": {
      "text/plain": [
       "0.019036465249873964"
      ]
     },
     "execution_count": 37,
     "metadata": {},
     "output_type": "execute_result"
    }
   ],
   "source": [
    "matthews_corrcoef(df_deepseek[\"label\"], df_deepseek[\"predicted\"])"
   ]
  },
  {
   "cell_type": "code",
   "execution_count": 39,
   "id": "b0c4b7d8-9b9e-431e-907a-0f1cfcb9690b",
   "metadata": {},
   "outputs": [
    {
     "name": "stdout",
     "output_type": "stream",
     "text": [
      "True Positives (TP): 4954\n",
      "True Negatives (TN): 3459\n",
      "False Positives (FP): 1541\n",
      "False Negatives (FN): 46\n"
     ]
    }
   ],
   "source": [
    "cm = confusion_matrix(df_e5[\"label\"], df_e5[\"pred\"])\n",
    "tn, fp, fn, tp = cm.ravel()\n",
    "\n",
    "print(f\"True Positives (TP): {tp}\")\n",
    "print(f\"True Negatives (TN): {tn}\")\n",
    "print(f\"False Positives (FP): {fp}\")\n",
    "print(f\"False Negatives (FN): {fn}\")"
   ]
  },
  {
   "cell_type": "code",
   "execution_count": 41,
   "id": "519dd8c4-4fb3-41db-a844-0d810e8a0c43",
   "metadata": {},
   "outputs": [
    {
     "name": "stdout",
     "output_type": "stream",
     "text": [
      "              precision    recall  f1-score   support\n",
      "\n",
      "           0       0.99      0.69      0.81      5000\n",
      "           1       0.76      0.99      0.86      5000\n",
      "\n",
      "    accuracy                           0.84     10000\n",
      "   macro avg       0.87      0.84      0.84     10000\n",
      "weighted avg       0.87      0.84      0.84     10000\n",
      "\n"
     ]
    }
   ],
   "source": [
    "print(classification_report(df_e5[\"label\"], df_e5[\"pred\"]))"
   ]
  },
  {
   "cell_type": "code",
   "execution_count": 43,
   "id": "7073250f-86ae-4faa-a385-a7c164cc8849",
   "metadata": {},
   "outputs": [
    {
     "data": {
      "text/plain": [
       "0.7153238402646088"
      ]
     },
     "execution_count": 43,
     "metadata": {},
     "output_type": "execute_result"
    }
   ],
   "source": [
    "matthews_corrcoef(df_e5[\"label\"], df_e5[\"pred\"])"
   ]
  },
  {
   "cell_type": "code",
   "execution_count": 1,
   "id": "9a4f4e5a-0760-45da-a31d-1f5cbf1b6c83",
   "metadata": {},
   "outputs": [
    {
     "data": {
      "image/png": "[encoded data removed]",
      "text/plain": [
       "<Figure size 1200x600 with 1 Axes>"
      ]
     },
     "metadata": {},
     "output_type": "display_data"
    }
   ],
   "source": [
    "import matplotlib.pyplot as plt\n",
    "import pandas as pd\n",
    "\n",
    "# Vytvorenie dátového rámca\n",
    "data = {\n",
    "    \"Model\": [\n",
    "        \"LLaMA 3.2 (Prompt 1)\",\n",
    "        \"LLaMA 3.2 (Prompt 2)\",\n",
    "        \"LLaMA 3.2 (Škála 1–4)\",\n",
    "        \"DeepSeek-R1 (7B)\",\n",
    "        \"e5-small-lora\"\n",
    "    ],\n",
    "    \"Accuracy\": [0.52, 0.49, 0.50, 0.51, 0.84],\n",
    "    \"Precision\": [0.52, 0.49, 0.51, 0.51, 0.87],\n",
    "    \"Recall\": [0.52, 0.49, 0.50, 0.51, 0.84],\n",
    "    \"F1\": [0.50, 0.44, 0.44, 0.44, 0.84],\n",
    "    \"MCC\": [0.03, -0.02, 0.01, 0.02, 0.72]\n",
    "}\n",
    "\n",
    "df = pd.DataFrame(data)\n",
    "\n",
    "# Nastavenie štýlu\n",
    "plt.style.use(\"ggplot\")\n",
    "\n",
    "# Vykreslenie grafu\n",
    "df.set_index(\"Model\").plot(kind=\"bar\", figsize=(12, 6), ylim=(0, 1), rot=15)\n",
    "\n",
    "# Pridanie popisov\n",
    "plt.title(\"Porovnanie výkonnosti modelov podľa metrík\")\n",
    "plt.ylabel(\"Hodnota metriky\")\n",
    "plt.xlabel(\"Model\")\n",
    "plt.legend(title=\"Metrika\", bbox_to_anchor=(1.05, 1), loc='upper left')\n",
    "plt.tight_layout()\n",
    "\n",
    "# Zobrazenie grafu\n",
    "plt.show()"
   ]
  },
  {
   "cell_type": "code",
   "execution_count": null,
   "id": "914ab71e-c269-4c04-a8bf-717d51bad05e",
   "metadata": {},
   "outputs": [],
   "source": []
  }
 ],
 "metadata": {
  "kernelspec": {
   "display_name": "Python 3 (ipykernel)",
   "language": "python",
   "name": "python3"
  },
  "language_info": {
   "codemirror_mode": {
    "name": "ipython",
    "version": 3
   },
   "file_extension": ".py",
   "mimetype": "text/x-python",
   "name": "python",
   "nbconvert_exporter": "python",
   "pygments_lexer": "ipython3",
   "version": "3.12.7"
  }
 },
 "nbformat": 4,
 "nbformat_minor": 5
}
